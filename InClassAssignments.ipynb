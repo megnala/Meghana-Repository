{
  "nbformat": 4,
  "nbformat_minor": 0,
  "metadata": {
    "colab": {
      "provenance": [],
      "authorship_tag": "ABX9TyPbEa3rgF0wLUbaup61h7WX",
      "include_colab_link": true
    },
    "kernelspec": {
      "name": "python3",
      "display_name": "Python 3"
    },
    "language_info": {
      "name": "python"
    }
  },
  "cells": [
    {
      "cell_type": "markdown",
      "metadata": {
        "id": "view-in-github",
        "colab_type": "text"
      },
      "source": [
        "<a href=\"https://colab.research.google.com/github/megnala/Meghana-Repository/blob/main/InClassAssignments.ipynb\" target=\"_parent\"><img src=\"https://colab.research.google.com/assets/colab-badge.svg\" alt=\"Open In Colab\"/></a>"
      ]
    },
    {
      "cell_type": "markdown",
      "source": [
        "Shape Area Calculator"
      ],
      "metadata": {
        "id": "epxK7rnXupbc"
      }
    },
    {
      "cell_type": "code",
      "execution_count": 3,
      "metadata": {
        "colab": {
          "base_uri": "https://localhost:8080/"
        },
        "id": "e_KQONuOno4K",
        "outputId": "10f1a7a5-1a51-4499-e90c-1766579ce3b2"
      },
      "outputs": [
        {
          "output_type": "stream",
          "name": "stdout",
          "text": [
            "208.1192\n"
          ]
        }
      ],
      "source": [
        "r = 3\n",
        "h = 10\n",
        "pi = 3.14\n",
        "\n",
        "area = 2 * pi ** 2 + 2 * pi * r * h\n",
        "print(area)"
      ]
    },
    {
      "cell_type": "markdown",
      "source": [
        "Rock Paper Scissors"
      ],
      "metadata": {
        "id": "0cpQhkqquv34"
      }
    },
    {
      "cell_type": "code",
      "source": [
        "import random\n",
        "\n",
        "c = input ('Do you want to play a game? yes or no:')\n",
        "\n",
        "while c == 'yes':\n",
        "  p1 = input ('choose rock, paper, or scissors:')\n",
        "  p2 = random.choice(['rock','paper','scissors'])\n",
        "\n",
        "  print(f'computer chose {p2}.')\n",
        "\n",
        "  if p1 == p2:\n",
        "    print('draw')\n",
        "\n",
        "  elif (p1 == 'rock' and p2 == 'scissors') or (p1 == 'paper' and p2 == 'rock') or (p1 == 'scissors' and p2 == 'paper'):\n",
        "        print('you win')\n",
        "\n",
        "  else:\n",
        "      print('computer wins')\n",
        "\n",
        "  c = input ('Do you want to play a game? yes or no:')\n",
        "\n"
      ],
      "metadata": {
        "id": "YWMd6vhVuzvj",
        "colab": {
          "base_uri": "https://localhost:8080/"
        },
        "outputId": "e228ad21-d98c-4baf-ef92-d13085552beb"
      },
      "execution_count": 11,
      "outputs": [
        {
          "name": "stdout",
          "output_type": "stream",
          "text": [
            "Do you want to play a game? yes or no:yes\n",
            "choose rock, paper, or scissors:rock\n",
            "computer chose paper.\n",
            "computer wins\n",
            "Do you want to play a game? yes or no:yes\n",
            "choose rock, paper, or scissors:scissors\n",
            "computer chose paper.\n",
            "you win\n",
            "Do you want to play a game? yes or no:no\n"
          ]
        }
      ]
    },
    {
      "cell_type": "markdown",
      "source": [
        "Numerical Calculator"
      ],
      "metadata": {
        "id": "5-ebFz-au0HE"
      }
    },
    {
      "cell_type": "code",
      "source": [
        "n1 = float(2)\n",
        "n2 = float(3)\n",
        "\n",
        "symbol = input(\"Choose *, /, +, - \")\n",
        "\n",
        "if symbol == '*':\n",
        "  print(n1 * n2)\n",
        "elif symbol == '/':\n",
        "  print(n1 / n2)\n",
        "elif symbol == '+':\n",
        "  print(n1 + n2)\n",
        "elif symbol == '-':\n",
        "  print(n1 - n2)"
      ],
      "metadata": {
        "id": "KL7Ki-OBu2bb",
        "colab": {
          "base_uri": "https://localhost:8080/"
        },
        "outputId": "07a7a51e-fb8a-4685-e1c0-943ba1e3e592"
      },
      "execution_count": 14,
      "outputs": [
        {
          "output_type": "stream",
          "name": "stdout",
          "text": [
            "Choose *, /, +, - +\n",
            "5.0\n"
          ]
        }
      ]
    },
    {
      "cell_type": "markdown",
      "source": [
        "Parking Garage"
      ],
      "metadata": {
        "id": "8ftWizOiu2xz"
      }
    },
    {
      "cell_type": "code",
      "source": [
        "flat = 5\n",
        "\n",
        "for t in range (1,9):\n",
        "  charge = flat + 2.50 * t\n",
        "  if charge < 10:\n",
        "    charge = 10\n",
        "  elif charge > 20:\n",
        "    charge = 20\n",
        "  print(t,charge)"
      ],
      "metadata": {
        "id": "TtNBteF-u4kL",
        "colab": {
          "base_uri": "https://localhost:8080/"
        },
        "outputId": "39f2d005-57e7-4323-8236-02ec174f9fe9"
      },
      "execution_count": 15,
      "outputs": [
        {
          "output_type": "stream",
          "name": "stdout",
          "text": [
            "1 10\n",
            "2 10.0\n",
            "3 12.5\n",
            "4 15.0\n",
            "5 17.5\n",
            "6 20.0\n",
            "7 20\n",
            "8 20\n"
          ]
        }
      ]
    },
    {
      "cell_type": "markdown",
      "source": [
        "Movie Theater"
      ],
      "metadata": {
        "id": "HP_yzek2u4vX"
      }
    },
    {
      "cell_type": "code",
      "source": [
        "TicketPricee = 10\n",
        "fixedCost = 200\n",
        "standardAttendees = 20\n",
        "\n",
        "for advertising in range (0, 201, 25):\n",
        "  profit = 10 * (standardAttendees + 2 * round(advertising**0.5)) - fixedCost - advertising\n",
        "  print(advertising,profit)"
      ],
      "metadata": {
        "colab": {
          "base_uri": "https://localhost:8080/"
        },
        "id": "5jRNKMu7u6Cd",
        "outputId": "65ee726a-db41-4ead-ef62-00f18037c162"
      },
      "execution_count": 16,
      "outputs": [
        {
          "output_type": "stream",
          "name": "stdout",
          "text": [
            "0 0\n",
            "25 75\n",
            "50 90\n",
            "75 105\n",
            "100 100\n",
            "125 95\n",
            "150 90\n",
            "175 85\n",
            "200 80\n"
          ]
        }
      ]
    },
    {
      "cell_type": "markdown",
      "source": [
        "Months2Numbers Dictionary"
      ],
      "metadata": {
        "id": "Gc-hLOAMu6OZ"
      }
    },
    {
      "cell_type": "code",
      "source": [
        "months = {}\n",
        "\n",
        "names = ['Jan', 'Feb', 'Mar', 'Apr', 'May', 'Jun', 'Jul', 'Aug', 'Sep', 'Oct', 'Nov', 'Dec']\n",
        "\n",
        "Numbers = [1,2,3,4,5,6,7,8,9,10,11,12]\n",
        "\n",
        "for i in range(len(Numbers)) :\n",
        "  months[Numbers[i]] = names[i]\n",
        "print(months)"
      ],
      "metadata": {
        "id": "2TEYdZRXu9FN",
        "colab": {
          "base_uri": "https://localhost:8080/"
        },
        "outputId": "f27ed512-eab1-4ca3-c9f6-a0821867eafc"
      },
      "execution_count": 17,
      "outputs": [
        {
          "output_type": "stream",
          "name": "stdout",
          "text": [
            "{1: 'Jan', 2: 'Feb', 3: 'Mar', 4: 'Apr', 5: 'May', 6: 'Jun', 7: 'Jul', 8: 'Aug', 9: 'Sep', 10: 'Oct', 11: 'Nov', 12: 'Dec'}\n"
          ]
        }
      ]
    },
    {
      "cell_type": "markdown",
      "source": [
        "Fee Calculation & Display Functions"
      ],
      "metadata": {
        "id": "QTNNTqf_u9O0"
      }
    },
    {
      "cell_type": "code",
      "source": [
        "def calcFee(hours, decimals=2):\n",
        "  fee = 5 + hours * 2.5\n",
        "  fee = round(fee, decimals)\n",
        "  return fee\n",
        "\n",
        "def displayFee(fee):\n",
        "  print('Parking fee: ', '$', fee)\n",
        "\n",
        "h = int(input('Enter number of hours parked:'))\n",
        "fee = calcFee(h)\n",
        "displayFee(fee)"
      ],
      "metadata": {
        "id": "Vm773XU9vA5p",
        "colab": {
          "base_uri": "https://localhost:8080/"
        },
        "outputId": "9f626d65-e92f-4f29-c377-4087bd2c62e3"
      },
      "execution_count": 19,
      "outputs": [
        {
          "output_type": "stream",
          "name": "stdout",
          "text": [
            "Enter number of hours parked:5\n",
            "Parking fee:  $ 17.5\n"
          ]
        }
      ]
    },
    {
      "cell_type": "markdown",
      "source": [
        "Reverse Function - Recursion"
      ],
      "metadata": {
        "id": "lXutFqmevBDd"
      }
    },
    {
      "cell_type": "code",
      "source": [
        "def rev(s):\n",
        "  if len(s) == 1:\n",
        "    return s\n",
        "  else:\n",
        "    return rev(s[1:]) + s[0]\n",
        "\n",
        "print(rev(\"hello\"))"
      ],
      "metadata": {
        "colab": {
          "base_uri": "https://localhost:8080/"
        },
        "id": "poNJjUavvEKV",
        "outputId": "6b21d860-f866-4f0a-d409-b8aca1e638e8"
      },
      "execution_count": 20,
      "outputs": [
        {
          "output_type": "stream",
          "name": "stdout",
          "text": [
            "olleh\n"
          ]
        }
      ]
    },
    {
      "cell_type": "markdown",
      "source": [
        "Student Class"
      ],
      "metadata": {
        "id": "RN_FJv6LvEVP"
      }
    },
    {
      "cell_type": "code",
      "source": [
        "class Student:\n",
        "  def __init__(self, name, number):\n",
        "    self.name = name\n",
        "    self.number = number\n",
        "    self.courses = []\n",
        "\n",
        "  def enroll(self, course):\n",
        "    if course not in self.courses:\n",
        "      self.courses.append(course)\n",
        "    else:\n",
        "      print(f'Already enrolled in {course}')\n",
        "\n",
        "  def get_courses(self):\n",
        "    return self.courses\n",
        "\n",
        "s1 = Student('James Bond', 307)\n",
        "s2 = Student('Clark Kent', 333)\n",
        "s3 = Student('Jane Doe', 1111)\n",
        "\n",
        "\n",
        "s3.enroll('BTE 420')\n",
        "\n",
        "s3.get_courses()\n",
        "\n",
        "s1.name, s2.name, s3.name"
      ],
      "metadata": {
        "id": "cnm-FdSkvFdJ",
        "colab": {
          "base_uri": "https://localhost:8080/"
        },
        "outputId": "524d8f36-eb3c-43c9-9a9c-1c157aca3635"
      },
      "execution_count": 29,
      "outputs": [
        {
          "output_type": "execute_result",
          "data": {
            "text/plain": [
              "('James Bond', 'Clark Kent', 'Jane Doe')"
            ]
          },
          "metadata": {},
          "execution_count": 29
        }
      ]
    }
  ]
}